{
 "cells": [
  {
   "cell_type": "markdown",
   "metadata": {
    "collapsed": true
   },
   "source": [
    "# churn predection"
   ]
  },
  {
   "cell_type": "markdown",
   "metadata": {},
   "source": [
    "### import packages"
   ]
  },
  {
   "cell_type": "code",
   "execution_count": 62,
   "metadata": {},
   "outputs": [],
   "source": [
    "import pandas as pd\n",
    "import numpy as np\n",
    "import seaborn as sns\n",
    "import matplotlib.pyplot as plt\n",
    "%matplotlib inline\n",
    "import warnings\n",
    "warnings.filterwarnings(\"ignore\")"
   ]
  },
  {
   "cell_type": "markdown",
   "metadata": {},
   "source": [
    "### import data sets"
   ]
  },
  {
   "cell_type": "code",
   "execution_count": 63,
   "metadata": {},
   "outputs": [],
   "source": [
    "train = pd.read_csv('TRAIN.csv')\n",
    "test  = pd.read_csv('TEST.csv')"
   ]
  },
  {
   "cell_type": "markdown",
   "metadata": {},
   "source": [
    "### taking backup of data"
   ]
  },
  {
   "cell_type": "code",
   "execution_count": 64,
   "metadata": {},
   "outputs": [],
   "source": [
    "train_orginal = train.copy()\n",
    "test_orginal  = test.copy()"
   ]
  },
  {
   "cell_type": "code",
   "execution_count": 65,
   "metadata": {},
   "outputs": [
    {
     "data": {
      "text/plain": [
       "(1401, 16)"
      ]
     },
     "execution_count": 65,
     "metadata": {},
     "output_type": "execute_result"
    }
   ],
   "source": [
    "train.shape"
   ]
  },
  {
   "cell_type": "code",
   "execution_count": 66,
   "metadata": {},
   "outputs": [
    {
     "data": {
      "text/plain": [
       "Index(['Customer ID', 'network_age', 'Customer tenure in month',\n",
       "       'Total Spend in Months 1 and 2 of 2017', 'Total SMS Spend',\n",
       "       'Total Data Spend', 'Total Data Consumption', 'Total Unique Calls',\n",
       "       'Total Onnet spend ', 'Total Offnet spend',\n",
       "       'Total Call centre complaint calls',\n",
       "       'Network type subscription in Month 1',\n",
       "       'Network type subscription in Month 2',\n",
       "       'Most Loved Competitor network in in Month 1',\n",
       "       'Most Loved Competitor network in in Month 2', 'Churn Status'],\n",
       "      dtype='object')"
      ]
     },
     "execution_count": 66,
     "metadata": {},
     "output_type": "execute_result"
    }
   ],
   "source": [
    "train.columns"
   ]
  },
  {
   "cell_type": "code",
   "execution_count": 67,
   "metadata": {},
   "outputs": [
    {
     "data": {
      "text/plain": [
       "Customer ID                                     object\n",
       "network_age                                    float64\n",
       "Customer tenure in month                       float64\n",
       "Total Spend in Months 1 and 2 of 2017          float64\n",
       "Total SMS Spend                                float64\n",
       "Total Data Spend                               float64\n",
       "Total Data Consumption                         float64\n",
       "Total Unique Calls                             float64\n",
       "Total Onnet spend                              float64\n",
       "Total Offnet spend                             float64\n",
       "Total Call centre complaint calls              float64\n",
       "Network type subscription in Month 1            object\n",
       "Network type subscription in Month 2            object\n",
       "Most Loved Competitor network in in Month 1     object\n",
       "Most Loved Competitor network in in Month 2     object\n",
       "Churn Status                                   float64\n",
       "dtype: object"
      ]
     },
     "execution_count": 67,
     "metadata": {},
     "output_type": "execute_result"
    }
   ],
   "source": [
    "train.dtypes"
   ]
  },
  {
   "cell_type": "code",
   "execution_count": 68,
   "metadata": {},
   "outputs": [
    {
     "data": {
      "text/plain": [
       "(1401, 16)"
      ]
     },
     "execution_count": 68,
     "metadata": {},
     "output_type": "execute_result"
    }
   ],
   "source": [
    "train.shape\n"
   ]
  },
  {
   "cell_type": "code",
   "execution_count": 69,
   "metadata": {},
   "outputs": [
    {
     "data": {
      "text/plain": [
       "(600, 15)"
      ]
     },
     "execution_count": 69,
     "metadata": {},
     "output_type": "execute_result"
    }
   ],
   "source": [
    "test.shape"
   ]
  },
  {
   "cell_type": "code",
   "execution_count": 70,
   "metadata": {},
   "outputs": [
    {
     "data": {
      "text/plain": [
       "Index(['Customer ID', 'network_age', 'Customer tenure in month',\n",
       "       'Total Spend in Months 1 and 2 of 2017', 'Total SMS Spend',\n",
       "       'Total Data Spend', 'Total Data Consumption', 'Total Unique Calls',\n",
       "       'Total Onnet spend ', 'Total Offnet spend',\n",
       "       'Total Call centre complaint calls',\n",
       "       'Network type subscription in Month 1',\n",
       "       'Network type subscription in Month 2',\n",
       "       'Most Loved Competitor network in in Month 1',\n",
       "       'Most Loved Competitor network in in Month 2'],\n",
       "      dtype='object')"
      ]
     },
     "execution_count": 70,
     "metadata": {},
     "output_type": "execute_result"
    }
   ],
   "source": [
    "test.columns"
   ]
  },
  {
   "cell_type": "code",
   "execution_count": 71,
   "metadata": {},
   "outputs": [
    {
     "data": {
      "text/plain": [
       "Customer ID                                     object\n",
       "network_age                                      int64\n",
       "Customer tenure in month                       float64\n",
       "Total Spend in Months 1 and 2 of 2017          float64\n",
       "Total SMS Spend                                float64\n",
       "Total Data Spend                               float64\n",
       "Total Data Consumption                         float64\n",
       "Total Unique Calls                               int64\n",
       "Total Onnet spend                                int64\n",
       "Total Offnet spend                               int64\n",
       "Total Call centre complaint calls                int64\n",
       "Network type subscription in Month 1            object\n",
       "Network type subscription in Month 2            object\n",
       "Most Loved Competitor network in in Month 1     object\n",
       "Most Loved Competitor network in in Month 2     object\n",
       "dtype: object"
      ]
     },
     "execution_count": 71,
     "metadata": {},
     "output_type": "execute_result"
    }
   ],
   "source": [
    "test.dtypes"
   ]
  },
  {
   "cell_type": "code",
   "execution_count": 72,
   "metadata": {},
   "outputs": [
    {
     "data": {
      "text/html": [
       "<div>\n",
       "<style scoped>\n",
       "    .dataframe tbody tr th:only-of-type {\n",
       "        vertical-align: middle;\n",
       "    }\n",
       "\n",
       "    .dataframe tbody tr th {\n",
       "        vertical-align: top;\n",
       "    }\n",
       "\n",
       "    .dataframe thead th {\n",
       "        text-align: right;\n",
       "    }\n",
       "</style>\n",
       "<table border=\"1\" class=\"dataframe\">\n",
       "  <thead>\n",
       "    <tr style=\"text-align: right;\">\n",
       "      <th></th>\n",
       "      <th>Customer ID</th>\n",
       "      <th>network_age</th>\n",
       "      <th>Customer tenure in month</th>\n",
       "      <th>Total Spend in Months 1 and 2 of 2017</th>\n",
       "      <th>Total SMS Spend</th>\n",
       "      <th>Total Data Spend</th>\n",
       "      <th>Total Data Consumption</th>\n",
       "      <th>Total Unique Calls</th>\n",
       "      <th>Total Onnet spend</th>\n",
       "      <th>Total Offnet spend</th>\n",
       "      <th>Total Call centre complaint calls</th>\n",
       "      <th>Network type subscription in Month 1</th>\n",
       "      <th>Network type subscription in Month 2</th>\n",
       "      <th>Most Loved Competitor network in in Month 1</th>\n",
       "      <th>Most Loved Competitor network in in Month 2</th>\n",
       "      <th>Churn Status</th>\n",
       "    </tr>\n",
       "  </thead>\n",
       "  <tbody>\n",
       "    <tr>\n",
       "      <th>0</th>\n",
       "      <td>ADF0039</td>\n",
       "      <td>123.0</td>\n",
       "      <td>4.10</td>\n",
       "      <td>76.7140</td>\n",
       "      <td>0.00</td>\n",
       "      <td>1.25</td>\n",
       "      <td>1.4951</td>\n",
       "      <td>14.0</td>\n",
       "      <td>564.0</td>\n",
       "      <td>6408.0</td>\n",
       "      <td>2.0</td>\n",
       "      <td>2G</td>\n",
       "      <td>2G</td>\n",
       "      <td>Uxaa</td>\n",
       "      <td>Mango</td>\n",
       "      <td>0.0</td>\n",
       "    </tr>\n",
       "    <tr>\n",
       "      <th>1</th>\n",
       "      <td>ADF0041</td>\n",
       "      <td>1316.0</td>\n",
       "      <td>43.87</td>\n",
       "      <td>98.8904</td>\n",
       "      <td>4.14</td>\n",
       "      <td>1.25</td>\n",
       "      <td>1.0244</td>\n",
       "      <td>27.0</td>\n",
       "      <td>1626.0</td>\n",
       "      <td>4373.0</td>\n",
       "      <td>1.0</td>\n",
       "      <td>2G</td>\n",
       "      <td>2G</td>\n",
       "      <td>Uxaa</td>\n",
       "      <td>Mango</td>\n",
       "      <td>0.0</td>\n",
       "    </tr>\n",
       "    <tr>\n",
       "      <th>2</th>\n",
       "      <td>ADF0051</td>\n",
       "      <td>2385.0</td>\n",
       "      <td>79.50</td>\n",
       "      <td>372.6300</td>\n",
       "      <td>3.51</td>\n",
       "      <td>1.25</td>\n",
       "      <td>6.0898</td>\n",
       "      <td>119.0</td>\n",
       "      <td>10411.0</td>\n",
       "      <td>22039.0</td>\n",
       "      <td>1.0</td>\n",
       "      <td>2G</td>\n",
       "      <td>2G</td>\n",
       "      <td>Weematel</td>\n",
       "      <td>Mango</td>\n",
       "      <td>0.0</td>\n",
       "    </tr>\n",
       "    <tr>\n",
       "      <th>3</th>\n",
       "      <td>ADF0059</td>\n",
       "      <td>1614.0</td>\n",
       "      <td>53.80</td>\n",
       "      <td>530.2000</td>\n",
       "      <td>6.85</td>\n",
       "      <td>1.25</td>\n",
       "      <td>3.3447</td>\n",
       "      <td>69.0</td>\n",
       "      <td>6822.0</td>\n",
       "      <td>6274.0</td>\n",
       "      <td>1.0</td>\n",
       "      <td>2G</td>\n",
       "      <td>2G</td>\n",
       "      <td>0</td>\n",
       "      <td>Mango</td>\n",
       "      <td>0.0</td>\n",
       "    </tr>\n",
       "    <tr>\n",
       "      <th>4</th>\n",
       "      <td>ADF0060</td>\n",
       "      <td>2175.0</td>\n",
       "      <td>72.50</td>\n",
       "      <td>554.1300</td>\n",
       "      <td>6.99</td>\n",
       "      <td>153.75</td>\n",
       "      <td>673204.0342</td>\n",
       "      <td>33.0</td>\n",
       "      <td>3387.0</td>\n",
       "      <td>7241.0</td>\n",
       "      <td>1.0</td>\n",
       "      <td>2G</td>\n",
       "      <td>3G</td>\n",
       "      <td>Weematel</td>\n",
       "      <td>Mango</td>\n",
       "      <td>0.0</td>\n",
       "    </tr>\n",
       "  </tbody>\n",
       "</table>\n",
       "</div>"
      ],
      "text/plain": [
       "  Customer ID  network_age  Customer tenure in month  \\\n",
       "0     ADF0039        123.0                      4.10   \n",
       "1     ADF0041       1316.0                     43.87   \n",
       "2     ADF0051       2385.0                     79.50   \n",
       "3     ADF0059       1614.0                     53.80   \n",
       "4     ADF0060       2175.0                     72.50   \n",
       "\n",
       "   Total Spend in Months 1 and 2 of 2017  Total SMS Spend  Total Data Spend  \\\n",
       "0                                76.7140             0.00              1.25   \n",
       "1                                98.8904             4.14              1.25   \n",
       "2                               372.6300             3.51              1.25   \n",
       "3                               530.2000             6.85              1.25   \n",
       "4                               554.1300             6.99            153.75   \n",
       "\n",
       "   Total Data Consumption  Total Unique Calls  Total Onnet spend   \\\n",
       "0                  1.4951                14.0               564.0   \n",
       "1                  1.0244                27.0              1626.0   \n",
       "2                  6.0898               119.0             10411.0   \n",
       "3                  3.3447                69.0              6822.0   \n",
       "4             673204.0342                33.0              3387.0   \n",
       "\n",
       "   Total Offnet spend  Total Call centre complaint calls  \\\n",
       "0              6408.0                                2.0   \n",
       "1              4373.0                                1.0   \n",
       "2             22039.0                                1.0   \n",
       "3              6274.0                                1.0   \n",
       "4              7241.0                                1.0   \n",
       "\n",
       "  Network type subscription in Month 1 Network type subscription in Month 2  \\\n",
       "0                                   2G                                   2G   \n",
       "1                                   2G                                   2G   \n",
       "2                                   2G                                   2G   \n",
       "3                                   2G                                   2G   \n",
       "4                                   2G                                   3G   \n",
       "\n",
       "  Most Loved Competitor network in in Month 1  \\\n",
       "0                                        Uxaa   \n",
       "1                                        Uxaa   \n",
       "2                                    Weematel   \n",
       "3                                           0   \n",
       "4                                    Weematel   \n",
       "\n",
       "  Most Loved Competitor network in in Month 2  Churn Status  \n",
       "0                                       Mango           0.0  \n",
       "1                                       Mango           0.0  \n",
       "2                                       Mango           0.0  \n",
       "3                                       Mango           0.0  \n",
       "4                                       Mango           0.0  "
      ]
     },
     "execution_count": 72,
     "metadata": {},
     "output_type": "execute_result"
    }
   ],
   "source": [
    "train.head()"
   ]
  },
  {
   "cell_type": "markdown",
   "metadata": {},
   "source": [
    "#### finding catogarial variables"
   ]
  },
  {
   "cell_type": "code",
   "execution_count": 73,
   "metadata": {},
   "outputs": [
    {
     "data": {
      "text/plain": [
       "3G       636\n",
       "2G       304\n",
       "Other    285\n",
       "Name: Network type subscription in Month 1, dtype: int64"
      ]
     },
     "execution_count": 73,
     "metadata": {},
     "output_type": "execute_result"
    }
   ],
   "source": [
    "train[\"Network type subscription in Month 1\"].value_counts()"
   ]
  },
  {
   "cell_type": "code",
   "execution_count": 74,
   "metadata": {},
   "outputs": [
    {
     "data": {
      "text/plain": [
       "3G       687\n",
       "Other    285\n",
       "2G       284\n",
       "Name: Network type subscription in Month 2, dtype: int64"
      ]
     },
     "execution_count": 74,
     "metadata": {},
     "output_type": "execute_result"
    }
   ],
   "source": [
    "train[\"Network type subscription in Month 2\"].value_counts()"
   ]
  },
  {
   "cell_type": "code",
   "execution_count": 75,
   "metadata": {},
   "outputs": [
    {
     "data": {
      "text/plain": [
       "PQza        340\n",
       "Uxaa        324\n",
       "Mango       204\n",
       "ToCall      202\n",
       "Zintel      152\n",
       "Weematel    139\n",
       "0            38\n",
       "Name: Most Loved Competitor network in in Month 1, dtype: int64"
      ]
     },
     "execution_count": 75,
     "metadata": {},
     "output_type": "execute_result"
    }
   ],
   "source": [
    "train[\"Most Loved Competitor network in in Month 1\"].value_counts()"
   ]
  },
  {
   "cell_type": "code",
   "execution_count": 76,
   "metadata": {},
   "outputs": [
    {
     "data": {
      "text/plain": [
       "Uxaa        829\n",
       "PQza        308\n",
       "Mango       101\n",
       "ToCall       64\n",
       "Weematel     51\n",
       "Zintel       46\n",
       "Name: Most Loved Competitor network in in Month 2, dtype: int64"
      ]
     },
     "execution_count": 76,
     "metadata": {},
     "output_type": "execute_result"
    }
   ],
   "source": [
    "train[\"Most Loved Competitor network in in Month 2\"].value_counts()"
   ]
  },
  {
   "cell_type": "code",
   "execution_count": 77,
   "metadata": {},
   "outputs": [
    {
     "data": {
      "text/plain": [
       "1.0    700\n",
       "0.0    700\n",
       "Name: Churn Status, dtype: int64"
      ]
     },
     "execution_count": 77,
     "metadata": {},
     "output_type": "execute_result"
    }
   ],
   "source": [
    "train[\"Churn Status\"].value_counts()"
   ]
  },
  {
   "cell_type": "markdown",
   "metadata": {},
   "source": [
    "### type of network preffered and churn rate"
   ]
  },
  {
   "cell_type": "code",
   "execution_count": 78,
   "metadata": {},
   "outputs": [
    {
     "data": {
      "text/plain": [
       "<matplotlib.axes._subplots.AxesSubplot at 0x1510c910>"
      ]
     },
     "execution_count": 78,
     "metadata": {},
     "output_type": "execute_result"
    },
    {
     "data": {
      "image/png": "[encoded data removed]",
      "text/plain": [
       "<Figure size 288x288 with 1 Axes>"
      ]
     },
     "metadata": {},
     "output_type": "display_data"
    }
   ],
   "source": [
    "Tech=pd.crosstab(train['Network type subscription in Month 1'],train['Churn Status'])\n",
    "Tech.div(Tech.sum(1).astype(float), axis=0).plot(kind=\"bar\", stacked=True, figsize=(4,4))"
   ]
  },
  {
   "cell_type": "code",
   "execution_count": 79,
   "metadata": {},
   "outputs": [
    {
     "data": {
      "text/plain": [
       "<matplotlib.axes._subplots.AxesSubplot at 0x1b7df0>"
      ]
     },
     "execution_count": 79,
     "metadata": {},
     "output_type": "execute_result"
    },
    {
     "data": {
      "image/png": "[encoded data removed]",
      "text/plain": [
       "<Figure size 288x288 with 1 Axes>"
      ]
     },
     "metadata": {},
     "output_type": "display_data"
    }
   ],
   "source": [
    "Tech=pd.crosstab(train['Network type subscription in Month 2'],train['Churn Status'])\n",
    "Tech.div(Tech.sum(1).astype(float), axis=0).plot(kind=\"bar\", stacked=True, figsize=(4,4))"
   ]
  },
  {
   "cell_type": "code",
   "execution_count": 80,
   "metadata": {},
   "outputs": [
    {
     "data": {
      "image/png": "[encoded data removed]",
      "text/plain": [
       "<Figure size 1728x432 with 2 Axes>"
      ]
     },
     "metadata": {},
     "output_type": "display_data"
    }
   ],
   "source": [
    "plt.figure(1)\n",
    "plt.subplot(131)\n",
    "train['Most Loved Competitor network in in Month 1'].value_counts().plot.bar(figsize=(24,6), title= 'Competitor_at_stage1')\n",
    "\n",
    "plt.subplot(132)\n",
    "train['Most Loved Competitor network in in Month 2'].value_counts().plot.bar(title= 'Competitor_at_stage2')\n",
    "\n",
    "plt.show()"
   ]
  },
  {
   "cell_type": "code",
   "execution_count": 81,
   "metadata": {},
   "outputs": [
    {
     "data": {
      "text/plain": [
       "<matplotlib.axes._subplots.AxesSubplot at 0x264be10>"
      ]
     },
     "execution_count": 81,
     "metadata": {},
     "output_type": "execute_result"
    },
    {
     "data": {
      "image/png": "[encoded data removed]",
      "text/plain": [
       "<Figure size 432x288 with 1 Axes>"
      ]
     },
     "metadata": {},
     "output_type": "display_data"
    }
   ],
   "source": [
    "train[\"Churn Status\"].value_counts().plot.bar(title= 'Churn rate')"
   ]
  },
  {
   "cell_type": "code",
   "execution_count": 82,
   "metadata": {},
   "outputs": [
    {
     "data": {
      "text/plain": [
       "<matplotlib.axes._subplots.AxesSubplot at 0x2cf3d50>"
      ]
     },
     "execution_count": 82,
     "metadata": {},
     "output_type": "execute_result"
    },
    {
     "data": {
      "image/png": "[encoded data removed]",
      "text/plain": [
       "<Figure size 432x288 with 1 Axes>"
      ]
     },
     "metadata": {},
     "output_type": "display_data"
    }
   ],
   "source": [
    "train[\"Total Call centre complaint calls\"].value_counts().plot.bar(title= 'Churn rate')\n"
   ]
  },
  {
   "cell_type": "code",
   "execution_count": 83,
   "metadata": {},
   "outputs": [
    {
     "data": {
      "image/png": "[encoded data removed]",
      "text/plain": [
       "<Figure size 648x432 with 2 Axes>"
      ]
     },
     "metadata": {},
     "output_type": "display_data"
    }
   ],
   "source": [
    "# Print correlation matrix\n",
    "matrix = train.corr()\n",
    "f, ax = plt.subplots(figsize=(9, 6))\n",
    "sns.heatmap(matrix, vmax=.8, square=True, cmap=\"BuPu\");"
   ]
  },
  {
   "cell_type": "markdown",
   "metadata": {},
   "source": [
    "##### co-related varibles are removed for better predection"
   ]
  },
  {
   "cell_type": "code",
   "execution_count": 84,
   "metadata": {},
   "outputs": [],
   "source": [
    "train=train.drop('Customer tenure in month',axis=1)"
   ]
  },
  {
   "cell_type": "code",
   "execution_count": 85,
   "metadata": {},
   "outputs": [
    {
     "data": {
      "text/html": [
       "<div>\n",
       "<style scoped>\n",
       "    .dataframe tbody tr th:only-of-type {\n",
       "        vertical-align: middle;\n",
       "    }\n",
       "\n",
       "    .dataframe tbody tr th {\n",
       "        vertical-align: top;\n",
       "    }\n",
       "\n",
       "    .dataframe thead th {\n",
       "        text-align: right;\n",
       "    }\n",
       "</style>\n",
       "<table border=\"1\" class=\"dataframe\">\n",
       "  <thead>\n",
       "    <tr style=\"text-align: right;\">\n",
       "      <th></th>\n",
       "      <th>Customer ID</th>\n",
       "      <th>network_age</th>\n",
       "      <th>Total Spend in Months 1 and 2 of 2017</th>\n",
       "      <th>Total SMS Spend</th>\n",
       "      <th>Total Data Spend</th>\n",
       "      <th>Total Data Consumption</th>\n",
       "      <th>Total Unique Calls</th>\n",
       "      <th>Total Onnet spend</th>\n",
       "      <th>Total Offnet spend</th>\n",
       "      <th>Total Call centre complaint calls</th>\n",
       "      <th>Network type subscription in Month 1</th>\n",
       "      <th>Network type subscription in Month 2</th>\n",
       "      <th>Most Loved Competitor network in in Month 1</th>\n",
       "      <th>Most Loved Competitor network in in Month 2</th>\n",
       "      <th>Churn Status</th>\n",
       "    </tr>\n",
       "  </thead>\n",
       "  <tbody>\n",
       "    <tr>\n",
       "      <th>0</th>\n",
       "      <td>ADF0039</td>\n",
       "      <td>123.0</td>\n",
       "      <td>76.7140</td>\n",
       "      <td>0.00</td>\n",
       "      <td>1.25</td>\n",
       "      <td>1.4951</td>\n",
       "      <td>14.0</td>\n",
       "      <td>564.0</td>\n",
       "      <td>6408.0</td>\n",
       "      <td>2.0</td>\n",
       "      <td>2G</td>\n",
       "      <td>2G</td>\n",
       "      <td>Uxaa</td>\n",
       "      <td>Mango</td>\n",
       "      <td>0.0</td>\n",
       "    </tr>\n",
       "    <tr>\n",
       "      <th>1</th>\n",
       "      <td>ADF0041</td>\n",
       "      <td>1316.0</td>\n",
       "      <td>98.8904</td>\n",
       "      <td>4.14</td>\n",
       "      <td>1.25</td>\n",
       "      <td>1.0244</td>\n",
       "      <td>27.0</td>\n",
       "      <td>1626.0</td>\n",
       "      <td>4373.0</td>\n",
       "      <td>1.0</td>\n",
       "      <td>2G</td>\n",
       "      <td>2G</td>\n",
       "      <td>Uxaa</td>\n",
       "      <td>Mango</td>\n",
       "      <td>0.0</td>\n",
       "    </tr>\n",
       "    <tr>\n",
       "      <th>2</th>\n",
       "      <td>ADF0051</td>\n",
       "      <td>2385.0</td>\n",
       "      <td>372.6300</td>\n",
       "      <td>3.51</td>\n",
       "      <td>1.25</td>\n",
       "      <td>6.0898</td>\n",
       "      <td>119.0</td>\n",
       "      <td>10411.0</td>\n",
       "      <td>22039.0</td>\n",
       "      <td>1.0</td>\n",
       "      <td>2G</td>\n",
       "      <td>2G</td>\n",
       "      <td>Weematel</td>\n",
       "      <td>Mango</td>\n",
       "      <td>0.0</td>\n",
       "    </tr>\n",
       "    <tr>\n",
       "      <th>3</th>\n",
       "      <td>ADF0059</td>\n",
       "      <td>1614.0</td>\n",
       "      <td>530.2000</td>\n",
       "      <td>6.85</td>\n",
       "      <td>1.25</td>\n",
       "      <td>3.3447</td>\n",
       "      <td>69.0</td>\n",
       "      <td>6822.0</td>\n",
       "      <td>6274.0</td>\n",
       "      <td>1.0</td>\n",
       "      <td>2G</td>\n",
       "      <td>2G</td>\n",
       "      <td>0</td>\n",
       "      <td>Mango</td>\n",
       "      <td>0.0</td>\n",
       "    </tr>\n",
       "    <tr>\n",
       "      <th>4</th>\n",
       "      <td>ADF0060</td>\n",
       "      <td>2175.0</td>\n",
       "      <td>554.1300</td>\n",
       "      <td>6.99</td>\n",
       "      <td>153.75</td>\n",
       "      <td>673204.0342</td>\n",
       "      <td>33.0</td>\n",
       "      <td>3387.0</td>\n",
       "      <td>7241.0</td>\n",
       "      <td>1.0</td>\n",
       "      <td>2G</td>\n",
       "      <td>3G</td>\n",
       "      <td>Weematel</td>\n",
       "      <td>Mango</td>\n",
       "      <td>0.0</td>\n",
       "    </tr>\n",
       "  </tbody>\n",
       "</table>\n",
       "</div>"
      ],
      "text/plain": [
       "  Customer ID  network_age  Total Spend in Months 1 and 2 of 2017  \\\n",
       "0     ADF0039        123.0                                76.7140   \n",
       "1     ADF0041       1316.0                                98.8904   \n",
       "2     ADF0051       2385.0                               372.6300   \n",
       "3     ADF0059       1614.0                               530.2000   \n",
       "4     ADF0060       2175.0                               554.1300   \n",
       "\n",
       "   Total SMS Spend  Total Data Spend  Total Data Consumption  \\\n",
       "0             0.00              1.25                  1.4951   \n",
       "1             4.14              1.25                  1.0244   \n",
       "2             3.51              1.25                  6.0898   \n",
       "3             6.85              1.25                  3.3447   \n",
       "4             6.99            153.75             673204.0342   \n",
       "\n",
       "   Total Unique Calls  Total Onnet spend   Total Offnet spend  \\\n",
       "0                14.0               564.0              6408.0   \n",
       "1                27.0              1626.0              4373.0   \n",
       "2               119.0             10411.0             22039.0   \n",
       "3                69.0              6822.0              6274.0   \n",
       "4                33.0              3387.0              7241.0   \n",
       "\n",
       "   Total Call centre complaint calls Network type subscription in Month 1  \\\n",
       "0                                2.0                                   2G   \n",
       "1                                1.0                                   2G   \n",
       "2                                1.0                                   2G   \n",
       "3                                1.0                                   2G   \n",
       "4                                1.0                                   2G   \n",
       "\n",
       "  Network type subscription in Month 2  \\\n",
       "0                                   2G   \n",
       "1                                   2G   \n",
       "2                                   2G   \n",
       "3                                   2G   \n",
       "4                                   3G   \n",
       "\n",
       "  Most Loved Competitor network in in Month 1  \\\n",
       "0                                        Uxaa   \n",
       "1                                        Uxaa   \n",
       "2                                    Weematel   \n",
       "3                                           0   \n",
       "4                                    Weematel   \n",
       "\n",
       "  Most Loved Competitor network in in Month 2  Churn Status  \n",
       "0                                       Mango           0.0  \n",
       "1                                       Mango           0.0  \n",
       "2                                       Mango           0.0  \n",
       "3                                       Mango           0.0  \n",
       "4                                       Mango           0.0  "
      ]
     },
     "execution_count": 85,
     "metadata": {},
     "output_type": "execute_result"
    }
   ],
   "source": [
    "train.head()"
   ]
  },
  {
   "cell_type": "code",
   "execution_count": 86,
   "metadata": {},
   "outputs": [],
   "source": [
    "train=train.drop('Total Spend in Months 1 and 2 of 2017',axis=1)"
   ]
  },
  {
   "cell_type": "code",
   "execution_count": 87,
   "metadata": {},
   "outputs": [
    {
     "data": {
      "text/html": [
       "<div>\n",
       "<style scoped>\n",
       "    .dataframe tbody tr th:only-of-type {\n",
       "        vertical-align: middle;\n",
       "    }\n",
       "\n",
       "    .dataframe tbody tr th {\n",
       "        vertical-align: top;\n",
       "    }\n",
       "\n",
       "    .dataframe thead th {\n",
       "        text-align: right;\n",
       "    }\n",
       "</style>\n",
       "<table border=\"1\" class=\"dataframe\">\n",
       "  <thead>\n",
       "    <tr style=\"text-align: right;\">\n",
       "      <th></th>\n",
       "      <th>Customer ID</th>\n",
       "      <th>network_age</th>\n",
       "      <th>Total SMS Spend</th>\n",
       "      <th>Total Data Spend</th>\n",
       "      <th>Total Data Consumption</th>\n",
       "      <th>Total Unique Calls</th>\n",
       "      <th>Total Onnet spend</th>\n",
       "      <th>Total Offnet spend</th>\n",
       "      <th>Total Call centre complaint calls</th>\n",
       "      <th>Network type subscription in Month 1</th>\n",
       "      <th>Network type subscription in Month 2</th>\n",
       "      <th>Most Loved Competitor network in in Month 1</th>\n",
       "      <th>Most Loved Competitor network in in Month 2</th>\n",
       "      <th>Churn Status</th>\n",
       "    </tr>\n",
       "  </thead>\n",
       "  <tbody>\n",
       "    <tr>\n",
       "      <th>0</th>\n",
       "      <td>ADF0039</td>\n",
       "      <td>123.0</td>\n",
       "      <td>0.00</td>\n",
       "      <td>1.25</td>\n",
       "      <td>1.4951</td>\n",
       "      <td>14.0</td>\n",
       "      <td>564.0</td>\n",
       "      <td>6408.0</td>\n",
       "      <td>2.0</td>\n",
       "      <td>2G</td>\n",
       "      <td>2G</td>\n",
       "      <td>Uxaa</td>\n",
       "      <td>Mango</td>\n",
       "      <td>0.0</td>\n",
       "    </tr>\n",
       "    <tr>\n",
       "      <th>1</th>\n",
       "      <td>ADF0041</td>\n",
       "      <td>1316.0</td>\n",
       "      <td>4.14</td>\n",
       "      <td>1.25</td>\n",
       "      <td>1.0244</td>\n",
       "      <td>27.0</td>\n",
       "      <td>1626.0</td>\n",
       "      <td>4373.0</td>\n",
       "      <td>1.0</td>\n",
       "      <td>2G</td>\n",
       "      <td>2G</td>\n",
       "      <td>Uxaa</td>\n",
       "      <td>Mango</td>\n",
       "      <td>0.0</td>\n",
       "    </tr>\n",
       "    <tr>\n",
       "      <th>2</th>\n",
       "      <td>ADF0051</td>\n",
       "      <td>2385.0</td>\n",
       "      <td>3.51</td>\n",
       "      <td>1.25</td>\n",
       "      <td>6.0898</td>\n",
       "      <td>119.0</td>\n",
       "      <td>10411.0</td>\n",
       "      <td>22039.0</td>\n",
       "      <td>1.0</td>\n",
       "      <td>2G</td>\n",
       "      <td>2G</td>\n",
       "      <td>Weematel</td>\n",
       "      <td>Mango</td>\n",
       "      <td>0.0</td>\n",
       "    </tr>\n",
       "    <tr>\n",
       "      <th>3</th>\n",
       "      <td>ADF0059</td>\n",
       "      <td>1614.0</td>\n",
       "      <td>6.85</td>\n",
       "      <td>1.25</td>\n",
       "      <td>3.3447</td>\n",
       "      <td>69.0</td>\n",
       "      <td>6822.0</td>\n",
       "      <td>6274.0</td>\n",
       "      <td>1.0</td>\n",
       "      <td>2G</td>\n",
       "      <td>2G</td>\n",
       "      <td>0</td>\n",
       "      <td>Mango</td>\n",
       "      <td>0.0</td>\n",
       "    </tr>\n",
       "    <tr>\n",
       "      <th>4</th>\n",
       "      <td>ADF0060</td>\n",
       "      <td>2175.0</td>\n",
       "      <td>6.99</td>\n",
       "      <td>153.75</td>\n",
       "      <td>673204.0342</td>\n",
       "      <td>33.0</td>\n",
       "      <td>3387.0</td>\n",
       "      <td>7241.0</td>\n",
       "      <td>1.0</td>\n",
       "      <td>2G</td>\n",
       "      <td>3G</td>\n",
       "      <td>Weematel</td>\n",
       "      <td>Mango</td>\n",
       "      <td>0.0</td>\n",
       "    </tr>\n",
       "  </tbody>\n",
       "</table>\n",
       "</div>"
      ],
      "text/plain": [
       "  Customer ID  network_age  Total SMS Spend  Total Data Spend  \\\n",
       "0     ADF0039        123.0             0.00              1.25   \n",
       "1     ADF0041       1316.0             4.14              1.25   \n",
       "2     ADF0051       2385.0             3.51              1.25   \n",
       "3     ADF0059       1614.0             6.85              1.25   \n",
       "4     ADF0060       2175.0             6.99            153.75   \n",
       "\n",
       "   Total Data Consumption  Total Unique Calls  Total Onnet spend   \\\n",
       "0                  1.4951                14.0               564.0   \n",
       "1                  1.0244                27.0              1626.0   \n",
       "2                  6.0898               119.0             10411.0   \n",
       "3                  3.3447                69.0              6822.0   \n",
       "4             673204.0342                33.0              3387.0   \n",
       "\n",
       "   Total Offnet spend  Total Call centre complaint calls  \\\n",
       "0              6408.0                                2.0   \n",
       "1              4373.0                                1.0   \n",
       "2             22039.0                                1.0   \n",
       "3              6274.0                                1.0   \n",
       "4              7241.0                                1.0   \n",
       "\n",
       "  Network type subscription in Month 1 Network type subscription in Month 2  \\\n",
       "0                                   2G                                   2G   \n",
       "1                                   2G                                   2G   \n",
       "2                                   2G                                   2G   \n",
       "3                                   2G                                   2G   \n",
       "4                                   2G                                   3G   \n",
       "\n",
       "  Most Loved Competitor network in in Month 1  \\\n",
       "0                                        Uxaa   \n",
       "1                                        Uxaa   \n",
       "2                                    Weematel   \n",
       "3                                           0   \n",
       "4                                    Weematel   \n",
       "\n",
       "  Most Loved Competitor network in in Month 2  Churn Status  \n",
       "0                                       Mango           0.0  \n",
       "1                                       Mango           0.0  \n",
       "2                                       Mango           0.0  \n",
       "3                                       Mango           0.0  \n",
       "4                                       Mango           0.0  "
      ]
     },
     "execution_count": 87,
     "metadata": {},
     "output_type": "execute_result"
    }
   ],
   "source": [
    "train.head()"
   ]
  },
  {
   "cell_type": "code",
   "execution_count": 88,
   "metadata": {},
   "outputs": [
    {
     "data": {
      "text/plain": [
       "(1401, 14)"
      ]
     },
     "execution_count": 88,
     "metadata": {},
     "output_type": "execute_result"
    }
   ],
   "source": [
    "train.shape"
   ]
  },
  {
   "cell_type": "markdown",
   "metadata": {},
   "source": [
    "##### droping nan rows "
   ]
  },
  {
   "cell_type": "code",
   "execution_count": 89,
   "metadata": {},
   "outputs": [],
   "source": [
    "train=train.dropna(how='all')"
   ]
  },
  {
   "cell_type": "code",
   "execution_count": 90,
   "metadata": {},
   "outputs": [
    {
     "data": {
      "text/plain": [
       "Customer ID                                      0\n",
       "network_age                                      0\n",
       "Total SMS Spend                                  0\n",
       "Total Data Spend                                 0\n",
       "Total Data Consumption                           0\n",
       "Total Unique Calls                               0\n",
       "Total Onnet spend                                0\n",
       "Total Offnet spend                               0\n",
       "Total Call centre complaint calls                0\n",
       "Network type subscription in Month 1           175\n",
       "Network type subscription in Month 2           144\n",
       "Most Loved Competitor network in in Month 1      1\n",
       "Most Loved Competitor network in in Month 2      1\n",
       "Churn Status                                     0\n",
       "dtype: int64"
      ]
     },
     "execution_count": 90,
     "metadata": {},
     "output_type": "execute_result"
    }
   ],
   "source": [
    "train.isnull().sum()"
   ]
  },
  {
   "cell_type": "markdown",
   "metadata": {},
   "source": [
    "##### filling missed values"
   ]
  },
  {
   "cell_type": "code",
   "execution_count": 91,
   "metadata": {},
   "outputs": [],
   "source": [
    "train['Network type subscription in Month 1'].fillna(train['Network type subscription in Month 1'].mode()[0], inplace=True)\n",
    "train['Network type subscription in Month 2'].fillna(train['Network type subscription in Month 2'].mode()[0], inplace=True)\n",
    "train['Most Loved Competitor network in in Month 1'].fillna(train['Most Loved Competitor network in in Month 1'].mode()[0], inplace=True)\n",
    "train['Most Loved Competitor network in in Month 2'].fillna(train['Most Loved Competitor network in in Month 2'].mode()[0], inplace=True)\n"
   ]
  },
  {
   "cell_type": "code",
   "execution_count": 92,
   "metadata": {},
   "outputs": [
    {
     "data": {
      "text/plain": [
       "Customer ID                                    0\n",
       "network_age                                    0\n",
       "Total SMS Spend                                0\n",
       "Total Data Spend                               0\n",
       "Total Data Consumption                         0\n",
       "Total Unique Calls                             0\n",
       "Total Onnet spend                              0\n",
       "Total Offnet spend                             0\n",
       "Total Call centre complaint calls              0\n",
       "Network type subscription in Month 1           0\n",
       "Network type subscription in Month 2           0\n",
       "Most Loved Competitor network in in Month 1    0\n",
       "Most Loved Competitor network in in Month 2    0\n",
       "Churn Status                                   0\n",
       "dtype: int64"
      ]
     },
     "execution_count": 92,
     "metadata": {},
     "output_type": "execute_result"
    }
   ],
   "source": [
    "train.isnull().sum()"
   ]
  },
  {
   "cell_type": "code",
   "execution_count": 93,
   "metadata": {},
   "outputs": [],
   "source": [
    "train=train.drop('Customer ID',axis=1)\n"
   ]
  },
  {
   "cell_type": "code",
   "execution_count": 94,
   "metadata": {},
   "outputs": [
    {
     "data": {
      "text/plain": [
       "(1400, 13)"
      ]
     },
     "execution_count": 94,
     "metadata": {},
     "output_type": "execute_result"
    }
   ],
   "source": [
    "train.shape"
   ]
  },
  {
   "cell_type": "code",
   "execution_count": 95,
   "metadata": {},
   "outputs": [
    {
     "data": {
      "text/plain": [
       "Customer ID                                     0\n",
       "network_age                                     0\n",
       "Customer tenure in month                        0\n",
       "Total Spend in Months 1 and 2 of 2017           0\n",
       "Total SMS Spend                                 0\n",
       "Total Data Spend                                0\n",
       "Total Data Consumption                          0\n",
       "Total Unique Calls                              0\n",
       "Total Onnet spend                               0\n",
       "Total Offnet spend                              0\n",
       "Total Call centre complaint calls               0\n",
       "Network type subscription in Month 1           70\n",
       "Network type subscription in Month 2           62\n",
       "Most Loved Competitor network in in Month 1     0\n",
       "Most Loved Competitor network in in Month 2     0\n",
       "dtype: int64"
      ]
     },
     "execution_count": 95,
     "metadata": {},
     "output_type": "execute_result"
    }
   ],
   "source": [
    "test.isnull().sum()"
   ]
  },
  {
   "cell_type": "code",
   "execution_count": 96,
   "metadata": {},
   "outputs": [],
   "source": [
    "test['Network type subscription in Month 1'].fillna(test['Network type subscription in Month 1'].mode()[0], inplace=True)\n",
    "test['Network type subscription in Month 2'].fillna(test['Network type subscription in Month 2'].mode()[0], inplace=True)"
   ]
  },
  {
   "cell_type": "markdown",
   "metadata": {},
   "source": [
    "#### spliting data features and target variable"
   ]
  },
  {
   "cell_type": "code",
   "execution_count": 97,
   "metadata": {},
   "outputs": [],
   "source": [
    "X = train.drop('Churn Status',1)\n",
    "y = train[\"Churn Status\"]"
   ]
  },
  {
   "cell_type": "markdown",
   "metadata": {},
   "source": [
    "#### Adding dummies to the dataset"
   ]
  },
  {
   "cell_type": "code",
   "execution_count": 98,
   "metadata": {},
   "outputs": [],
   "source": [
    "\n",
    "X=pd.get_dummies(X)"
   ]
  },
  {
   "cell_type": "markdown",
   "metadata": {},
   "source": [
    "#### selecting of model and training"
   ]
  },
  {
   "cell_type": "code",
   "execution_count": 99,
   "metadata": {},
   "outputs": [
    {
     "data": {
      "text/plain": [
       "LogisticRegression(C=1.0, class_weight=None, dual=False, fit_intercept=True,\n",
       "          intercept_scaling=1, max_iter=100, multi_class='ovr', n_jobs=1,\n",
       "          penalty='l2', random_state=0, solver='liblinear', tol=0.0001,\n",
       "          verbose=0, warm_start=False)"
      ]
     },
     "execution_count": 99,
     "metadata": {},
     "output_type": "execute_result"
    }
   ],
   "source": [
    "# Importing packages for cross validation and logistic regression\n",
    "from sklearn.model_selection import StratifiedKFold\n",
    "from sklearn.metrics import accuracy_score\n",
    "from sklearn.linear_model import LogisticRegression\n",
    "classifier = LogisticRegression(random_state = 0)\n",
    "classifier.fit(X, y)"
   ]
  },
  {
   "cell_type": "code",
   "execution_count": 100,
   "metadata": {},
   "outputs": [],
   "source": [
    "y_pred = classifier.predict(X)\n",
    "\n",
    "from sklearn.metrics import confusion_matrix\n",
    "cm = confusion_matrix(y, y_pred)"
   ]
  },
  {
   "cell_type": "code",
   "execution_count": 101,
   "metadata": {},
   "outputs": [
    {
     "data": {
      "text/plain": [
       "array([[621,  79],\n",
       "       [492, 208]], dtype=int64)"
      ]
     },
     "execution_count": 101,
     "metadata": {},
     "output_type": "execute_result"
    }
   ],
   "source": [
    "cm"
   ]
  },
  {
   "cell_type": "code",
   "execution_count": 102,
   "metadata": {},
   "outputs": [
    {
     "data": {
      "text/plain": [
       "array([1., 0., 0., ..., 1., 0., 1.])"
      ]
     },
     "execution_count": 102,
     "metadata": {},
     "output_type": "execute_result"
    }
   ],
   "source": [
    "y_pred"
   ]
  },
  {
   "cell_type": "code",
   "execution_count": 104,
   "metadata": {},
   "outputs": [
    {
     "name": "stdout",
     "output_type": "stream",
     "text": [
      "accuracy_score 0.5921428571428572\n"
     ]
    }
   ],
   "source": [
    "score = accuracy_score(y, y_pred)\n",
    "print('accuracy_score',score)"
   ]
  },
  {
   "cell_type": "code",
   "execution_count": 105,
   "metadata": {},
   "outputs": [
    {
     "data": {
      "text/plain": [
       "DecisionTreeClassifier(class_weight=None, criterion='entropy', max_depth=None,\n",
       "            max_features=None, max_leaf_nodes=None,\n",
       "            min_impurity_decrease=0.0, min_impurity_split=None,\n",
       "            min_samples_leaf=1, min_samples_split=2,\n",
       "            min_weight_fraction_leaf=0.0, presort=False, random_state=10,\n",
       "            splitter='best')"
      ]
     },
     "execution_count": 105,
     "metadata": {},
     "output_type": "execute_result"
    }
   ],
   "source": [
    "from sklearn.tree import DecisionTreeClassifier\n",
    "classifier = DecisionTreeClassifier(criterion = 'entropy', random_state = 10)\n",
    "classifier.fit(X, y)\n"
   ]
  },
  {
   "cell_type": "code",
   "execution_count": 106,
   "metadata": {},
   "outputs": [],
   "source": [
    "y_pred = classifier.predict(X)"
   ]
  },
  {
   "cell_type": "code",
   "execution_count": 107,
   "metadata": {},
   "outputs": [],
   "source": [
    "from sklearn.metrics import confusion_matrix\n",
    "cm = confusion_matrix(y, y_pred)"
   ]
  },
  {
   "cell_type": "code",
   "execution_count": 108,
   "metadata": {},
   "outputs": [
    {
     "data": {
      "text/plain": [
       "array([[700,   0],\n",
       "       [  0, 700]], dtype=int64)"
      ]
     },
     "execution_count": 108,
     "metadata": {},
     "output_type": "execute_result"
    }
   ],
   "source": [
    "cm"
   ]
  },
  {
   "cell_type": "code",
   "execution_count": 109,
   "metadata": {},
   "outputs": [
    {
     "name": "stdout",
     "output_type": "stream",
     "text": [
      "accuracy_score 1.0\n"
     ]
    }
   ],
   "source": [
    "score = accuracy_score(y, y_pred)\n",
    "print('accuracy_score',score)"
   ]
  },
  {
   "cell_type": "markdown",
   "metadata": {},
   "source": [
    "### after applying logistic regression and DecisionTree error rate and accurcy rate are very low so applyed RandomForest is some what better"
   ]
  },
  {
   "cell_type": "code",
   "execution_count": 47,
   "metadata": {},
   "outputs": [
    {
     "data": {
      "text/plain": [
       "RandomForestClassifier(bootstrap=True, class_weight=None, criterion='entropy',\n",
       "            max_depth=None, max_features='auto', max_leaf_nodes=None,\n",
       "            min_impurity_decrease=0.0, min_impurity_split=None,\n",
       "            min_samples_leaf=1, min_samples_split=2,\n",
       "            min_weight_fraction_leaf=0.0, n_estimators=10, n_jobs=1,\n",
       "            oob_score=False, random_state=0, verbose=0, warm_start=False)"
      ]
     },
     "execution_count": 47,
     "metadata": {},
     "output_type": "execute_result"
    }
   ],
   "source": [
    "from sklearn.ensemble import RandomForestClassifier\n",
    "classifier = RandomForestClassifier(n_estimators = 10, criterion = 'entropy', random_state = 0)\n",
    "classifier.fit(X, y)"
   ]
  },
  {
   "cell_type": "code",
   "execution_count": 48,
   "metadata": {},
   "outputs": [],
   "source": [
    "y_pred = classifier.predict(X)"
   ]
  },
  {
   "cell_type": "code",
   "execution_count": 49,
   "metadata": {},
   "outputs": [],
   "source": [
    "from sklearn.metrics import confusion_matrix\n",
    "cm = confusion_matrix(y, y_pred)"
   ]
  },
  {
   "cell_type": "code",
   "execution_count": 50,
   "metadata": {},
   "outputs": [
    {
     "data": {
      "text/plain": [
       "array([[696,   4],\n",
       "       [ 20, 680]], dtype=int64)"
      ]
     },
     "execution_count": 50,
     "metadata": {},
     "output_type": "execute_result"
    }
   ],
   "source": [
    "cm"
   ]
  },
  {
   "cell_type": "code",
   "execution_count": 51,
   "metadata": {},
   "outputs": [
    {
     "name": "stdout",
     "output_type": "stream",
     "text": [
      "accuracy_score 0.9828571428571429\n"
     ]
    }
   ],
   "source": [
    "score = accuracy_score(y, y_pred)\n",
    "print('accuracy_score',score)"
   ]
  },
  {
   "cell_type": "code",
   "execution_count": 52,
   "metadata": {},
   "outputs": [],
   "source": [
    "submission = test['Customer ID']"
   ]
  },
  {
   "cell_type": "code",
   "execution_count": 53,
   "metadata": {},
   "outputs": [],
   "source": [
    "test = test.drop('Customer ID',1)"
   ]
  },
  {
   "cell_type": "code",
   "execution_count": 54,
   "metadata": {},
   "outputs": [],
   "source": [
    "# Adding dummies to the dataset\n",
    "test_pred=pd.get_dummies(test)"
   ]
  },
  {
   "cell_type": "code",
   "execution_count": 55,
   "metadata": {},
   "outputs": [],
   "source": [
    "test_pred=test_pred.drop('Total Spend in Months 1 and 2 of 2017',axis=1)\n",
    "test_pred=test_pred.drop('Customer tenure in month',axis=1)"
   ]
  },
  {
   "cell_type": "code",
   "execution_count": 56,
   "metadata": {},
   "outputs": [],
   "source": [
    "chur_pred = classifier.predict(test_pred)"
   ]
  },
  {
   "cell_type": "code",
   "execution_count": 57,
   "metadata": {},
   "outputs": [],
   "source": [
    "from sklearn.metrics import confusion_matrix\n",
    "cm = confusion_matrix(y, y_pred)"
   ]
  },
  {
   "cell_type": "code",
   "execution_count": 58,
   "metadata": {},
   "outputs": [
    {
     "data": {
      "text/plain": [
       "array([[696,   4],\n",
       "       [ 20, 680]], dtype=int64)"
      ]
     },
     "execution_count": 58,
     "metadata": {},
     "output_type": "execute_result"
    }
   ],
   "source": [
    "cm"
   ]
  },
  {
   "cell_type": "code",
   "execution_count": 59,
   "metadata": {},
   "outputs": [],
   "source": [
    "submission_result=pd.read_csv(\"sample submission.csv\")\n",
    "\n",
    "submission_result['Customer ID']=submission\n",
    "submission_result['Churn Status']=chur_pred\n"
   ]
  },
  {
   "cell_type": "code",
   "execution_count": 60,
   "metadata": {},
   "outputs": [],
   "source": [
    "\n",
    "submission_result['Churn Status'] = submission_result['Churn Status'].astype(int)\n"
   ]
  },
  {
   "cell_type": "code",
   "execution_count": 61,
   "metadata": {},
   "outputs": [],
   "source": [
    "submission_result.to_csv(\"sample submission.csv\",index=False)"
   ]
  },
  {
   "cell_type": "code",
   "execution_count": null,
   "metadata": {},
   "outputs": [],
   "source": []
  }
 ],
 "metadata": {
  "kernelspec": {
   "display_name": "Python 3",
   "language": "python",
   "name": "python3"
  },
  "language_info": {
   "codemirror_mode": {
    "name": "ipython",
    "version": 3
   },
   "file_extension": ".py",
   "mimetype": "text/x-python",
   "name": "python",
   "nbconvert_exporter": "python",
   "pygments_lexer": "ipython3",
   "version": "3.6.5"
  }
 },
 "nbformat": 4,
 "nbformat_minor": 2
}
